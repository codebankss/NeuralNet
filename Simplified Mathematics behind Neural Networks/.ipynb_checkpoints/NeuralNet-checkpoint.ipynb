{
 "cells": [
  {
   "cell_type": "markdown",
   "metadata": {},
   "source": [
    "# Backpropagation in Neural Network"
   ]
  },
  {
   "cell_type": "markdown",
   "metadata": {},
   "source": [
    "## Data Exploration and PreProcessing "
   ]
  },
  {
   "cell_type": "code",
   "execution_count": 1,
   "metadata": {},
   "outputs": [],
   "source": [
    "import numpy as np\n",
    "import pandas as pd\n",
    "import matplotlib.pyplot as plt"
   ]
  },
  {
   "cell_type": "code",
   "execution_count": 2,
   "metadata": {},
   "outputs": [
    {
     "data": {
      "text/html": [
       "<div>\n",
       "<style scoped>\n",
       "    .dataframe tbody tr th:only-of-type {\n",
       "        vertical-align: middle;\n",
       "    }\n",
       "\n",
       "    .dataframe tbody tr th {\n",
       "        vertical-align: top;\n",
       "    }\n",
       "\n",
       "    .dataframe thead th {\n",
       "        text-align: right;\n",
       "    }\n",
       "</style>\n",
       "<table border=\"1\" class=\"dataframe\">\n",
       "  <thead>\n",
       "    <tr style=\"text-align: right;\">\n",
       "      <th></th>\n",
       "      <th>Age</th>\n",
       "      <th>Year_of_Operation</th>\n",
       "      <th>Positive_Nodes</th>\n",
       "      <th>Survival_Status</th>\n",
       "    </tr>\n",
       "  </thead>\n",
       "  <tbody>\n",
       "    <tr>\n",
       "      <th>0</th>\n",
       "      <td>30</td>\n",
       "      <td>64</td>\n",
       "      <td>1</td>\n",
       "      <td>1</td>\n",
       "    </tr>\n",
       "    <tr>\n",
       "      <th>1</th>\n",
       "      <td>30</td>\n",
       "      <td>62</td>\n",
       "      <td>3</td>\n",
       "      <td>1</td>\n",
       "    </tr>\n",
       "    <tr>\n",
       "      <th>2</th>\n",
       "      <td>30</td>\n",
       "      <td>65</td>\n",
       "      <td>0</td>\n",
       "      <td>1</td>\n",
       "    </tr>\n",
       "    <tr>\n",
       "      <th>3</th>\n",
       "      <td>31</td>\n",
       "      <td>59</td>\n",
       "      <td>2</td>\n",
       "      <td>1</td>\n",
       "    </tr>\n",
       "    <tr>\n",
       "      <th>4</th>\n",
       "      <td>31</td>\n",
       "      <td>65</td>\n",
       "      <td>4</td>\n",
       "      <td>1</td>\n",
       "    </tr>\n",
       "  </tbody>\n",
       "</table>\n",
       "</div>"
      ],
      "text/plain": [
       "   Age  Year_of_Operation  Positive_Nodes  Survival_Status\n",
       "0   30                 64               1                1\n",
       "1   30                 62               3                1\n",
       "2   30                 65               0                1\n",
       "3   31                 59               2                1\n",
       "4   31                 65               4                1"
      ]
     },
     "execution_count": 2,
     "metadata": {},
     "output_type": "execute_result"
    }
   ],
   "source": [
    "url = 'https://raw.githubusercontent.com/codebankss/datasets/master/haberman.csv'\n",
    "col = ['Age', 'Year_of_Operation', 'Positive_Nodes', 'Survival_Status']\n",
    "data = pd.read_csv(url, error_bad_lines=False, names=col)\n",
    "data.head()"
   ]
  },
  {
   "cell_type": "code",
   "execution_count": null,
   "metadata": {},
   "outputs": [],
   "source": []
  },
  {
   "cell_type": "markdown",
   "metadata": {},
   "source": [
    "### Data Eyeballing"
   ]
  },
  {
   "cell_type": "code",
   "execution_count": 3,
   "metadata": {},
   "outputs": [
    {
     "data": {
      "text/plain": [
       "Age                  306\n",
       "Year_of_Operation    306\n",
       "Positive_Nodes       306\n",
       "Survival_Status      306\n",
       "dtype: int64"
      ]
     },
     "execution_count": 3,
     "metadata": {},
     "output_type": "execute_result"
    }
   ],
   "source": [
    "data.count()"
   ]
  },
  {
   "cell_type": "code",
   "execution_count": 4,
   "metadata": {},
   "outputs": [
    {
     "data": {
      "text/plain": [
       "Age                  0\n",
       "Year_of_Operation    0\n",
       "Positive_Nodes       0\n",
       "Survival_Status      0\n",
       "dtype: int64"
      ]
     },
     "execution_count": 4,
     "metadata": {},
     "output_type": "execute_result"
    }
   ],
   "source": [
    "data.isnull().sum()"
   ]
  },
  {
   "cell_type": "code",
   "execution_count": 5,
   "metadata": {},
   "outputs": [
    {
     "data": {
      "text/plain": [
       "Age                  int64\n",
       "Year_of_Operation    int64\n",
       "Positive_Nodes       int64\n",
       "Survival_Status      int64\n",
       "dtype: object"
      ]
     },
     "execution_count": 5,
     "metadata": {},
     "output_type": "execute_result"
    }
   ],
   "source": [
    "data.dtypes"
   ]
  },
  {
   "cell_type": "raw",
   "metadata": {},
   "source": [
    "No categorical variable"
   ]
  },
  {
   "cell_type": "code",
   "execution_count": 6,
   "metadata": {},
   "outputs": [
    {
     "data": {
      "text/plain": [
       "0      1\n",
       "1      1\n",
       "2      1\n",
       "3      1\n",
       "4      1\n",
       "      ..\n",
       "301    1\n",
       "302    1\n",
       "303    1\n",
       "304    2\n",
       "305    2\n",
       "Name: Survival_Status, Length: 306, dtype: int64"
      ]
     },
     "execution_count": 6,
     "metadata": {},
     "output_type": "execute_result"
    }
   ],
   "source": [
    "data.Survival_Status"
   ]
  },
  {
   "cell_type": "raw",
   "metadata": {},
   "source": [
    "There are only two classes:\n",
    "1 = the patient survived 5 years or longer \n",
    "2 = the patient died within 5 year\n",
    "\n",
    "Converting 2 into 0 for ease"
   ]
  },
  {
   "cell_type": "code",
   "execution_count": 7,
   "metadata": {},
   "outputs": [],
   "source": [
    "def convert(x):\n",
    "    if x == 1:\n",
    "        pass\n",
    "    elif x == 2:\n",
    "        x = 0\n",
    "    return x"
   ]
  },
  {
   "cell_type": "code",
   "execution_count": 8,
   "metadata": {},
   "outputs": [],
   "source": [
    "data['Survival_Status'] = data['Survival_Status'].apply(convert)"
   ]
  },
  {
   "cell_type": "code",
   "execution_count": 9,
   "metadata": {},
   "outputs": [
    {
     "data": {
      "text/plain": [
       "0      1\n",
       "1      1\n",
       "2      1\n",
       "3      1\n",
       "4      1\n",
       "      ..\n",
       "301    1\n",
       "302    1\n",
       "303    1\n",
       "304    0\n",
       "305    0\n",
       "Name: Survival_Status, Length: 306, dtype: int64"
      ]
     },
     "execution_count": 9,
     "metadata": {},
     "output_type": "execute_result"
    }
   ],
   "source": [
    "data.Survival_Status"
   ]
  },
  {
   "cell_type": "code",
   "execution_count": 10,
   "metadata": {},
   "outputs": [
    {
     "data": {
      "text/html": [
       "<div>\n",
       "<style scoped>\n",
       "    .dataframe tbody tr th:only-of-type {\n",
       "        vertical-align: middle;\n",
       "    }\n",
       "\n",
       "    .dataframe tbody tr th {\n",
       "        vertical-align: top;\n",
       "    }\n",
       "\n",
       "    .dataframe thead th {\n",
       "        text-align: right;\n",
       "    }\n",
       "</style>\n",
       "<table border=\"1\" class=\"dataframe\">\n",
       "  <thead>\n",
       "    <tr style=\"text-align: right;\">\n",
       "      <th></th>\n",
       "      <th>Age</th>\n",
       "      <th>Year_of_Operation</th>\n",
       "      <th>Positive_Nodes</th>\n",
       "      <th>Survival_Status</th>\n",
       "    </tr>\n",
       "  </thead>\n",
       "  <tbody>\n",
       "    <tr>\n",
       "      <th>count</th>\n",
       "      <td>306.000000</td>\n",
       "      <td>306.000000</td>\n",
       "      <td>306.000000</td>\n",
       "      <td>306.000000</td>\n",
       "    </tr>\n",
       "    <tr>\n",
       "      <th>mean</th>\n",
       "      <td>52.457516</td>\n",
       "      <td>62.852941</td>\n",
       "      <td>4.026144</td>\n",
       "      <td>0.735294</td>\n",
       "    </tr>\n",
       "    <tr>\n",
       "      <th>std</th>\n",
       "      <td>10.803452</td>\n",
       "      <td>3.249405</td>\n",
       "      <td>7.189654</td>\n",
       "      <td>0.441899</td>\n",
       "    </tr>\n",
       "    <tr>\n",
       "      <th>min</th>\n",
       "      <td>30.000000</td>\n",
       "      <td>58.000000</td>\n",
       "      <td>0.000000</td>\n",
       "      <td>0.000000</td>\n",
       "    </tr>\n",
       "    <tr>\n",
       "      <th>25%</th>\n",
       "      <td>44.000000</td>\n",
       "      <td>60.000000</td>\n",
       "      <td>0.000000</td>\n",
       "      <td>0.000000</td>\n",
       "    </tr>\n",
       "    <tr>\n",
       "      <th>50%</th>\n",
       "      <td>52.000000</td>\n",
       "      <td>63.000000</td>\n",
       "      <td>1.000000</td>\n",
       "      <td>1.000000</td>\n",
       "    </tr>\n",
       "    <tr>\n",
       "      <th>75%</th>\n",
       "      <td>60.750000</td>\n",
       "      <td>65.750000</td>\n",
       "      <td>4.000000</td>\n",
       "      <td>1.000000</td>\n",
       "    </tr>\n",
       "    <tr>\n",
       "      <th>max</th>\n",
       "      <td>83.000000</td>\n",
       "      <td>69.000000</td>\n",
       "      <td>52.000000</td>\n",
       "      <td>1.000000</td>\n",
       "    </tr>\n",
       "  </tbody>\n",
       "</table>\n",
       "</div>"
      ],
      "text/plain": [
       "              Age  Year_of_Operation  Positive_Nodes  Survival_Status\n",
       "count  306.000000         306.000000      306.000000       306.000000\n",
       "mean    52.457516          62.852941        4.026144         0.735294\n",
       "std     10.803452           3.249405        7.189654         0.441899\n",
       "min     30.000000          58.000000        0.000000         0.000000\n",
       "25%     44.000000          60.000000        0.000000         0.000000\n",
       "50%     52.000000          63.000000        1.000000         1.000000\n",
       "75%     60.750000          65.750000        4.000000         1.000000\n",
       "max     83.000000          69.000000       52.000000         1.000000"
      ]
     },
     "execution_count": 10,
     "metadata": {},
     "output_type": "execute_result"
    }
   ],
   "source": [
    "data.describe()"
   ]
  },
  {
   "cell_type": "code",
   "execution_count": 11,
   "metadata": {},
   "outputs": [
    {
     "data": {
      "text/html": [
       "<div>\n",
       "<style scoped>\n",
       "    .dataframe tbody tr th:only-of-type {\n",
       "        vertical-align: middle;\n",
       "    }\n",
       "\n",
       "    .dataframe tbody tr th {\n",
       "        vertical-align: top;\n",
       "    }\n",
       "\n",
       "    .dataframe thead th {\n",
       "        text-align: right;\n",
       "    }\n",
       "</style>\n",
       "<table border=\"1\" class=\"dataframe\">\n",
       "  <thead>\n",
       "    <tr style=\"text-align: right;\">\n",
       "      <th></th>\n",
       "      <th>Age</th>\n",
       "      <th>Year_of_Operation</th>\n",
       "      <th>Positive_Nodes</th>\n",
       "      <th>Survival_Status</th>\n",
       "    </tr>\n",
       "  </thead>\n",
       "  <tbody>\n",
       "    <tr>\n",
       "      <th>Age</th>\n",
       "      <td>1.000000</td>\n",
       "      <td>0.089529</td>\n",
       "      <td>-0.063176</td>\n",
       "      <td>-0.067950</td>\n",
       "    </tr>\n",
       "    <tr>\n",
       "      <th>Year_of_Operation</th>\n",
       "      <td>0.089529</td>\n",
       "      <td>1.000000</td>\n",
       "      <td>-0.003764</td>\n",
       "      <td>0.004768</td>\n",
       "    </tr>\n",
       "    <tr>\n",
       "      <th>Positive_Nodes</th>\n",
       "      <td>-0.063176</td>\n",
       "      <td>-0.003764</td>\n",
       "      <td>1.000000</td>\n",
       "      <td>-0.286768</td>\n",
       "    </tr>\n",
       "    <tr>\n",
       "      <th>Survival_Status</th>\n",
       "      <td>-0.067950</td>\n",
       "      <td>0.004768</td>\n",
       "      <td>-0.286768</td>\n",
       "      <td>1.000000</td>\n",
       "    </tr>\n",
       "  </tbody>\n",
       "</table>\n",
       "</div>"
      ],
      "text/plain": [
       "                        Age  Year_of_Operation  Positive_Nodes  \\\n",
       "Age                1.000000           0.089529       -0.063176   \n",
       "Year_of_Operation  0.089529           1.000000       -0.003764   \n",
       "Positive_Nodes    -0.063176          -0.003764        1.000000   \n",
       "Survival_Status   -0.067950           0.004768       -0.286768   \n",
       "\n",
       "                   Survival_Status  \n",
       "Age                      -0.067950  \n",
       "Year_of_Operation         0.004768  \n",
       "Positive_Nodes           -0.286768  \n",
       "Survival_Status           1.000000  "
      ]
     },
     "execution_count": 11,
     "metadata": {},
     "output_type": "execute_result"
    }
   ],
   "source": [
    "data.corr()"
   ]
  },
  {
   "cell_type": "raw",
   "metadata": {},
   "source": [
    "Variables are independent of each other"
   ]
  },
  {
   "cell_type": "code",
   "execution_count": null,
   "metadata": {},
   "outputs": [],
   "source": []
  },
  {
   "cell_type": "markdown",
   "metadata": {},
   "source": [
    "### Data Plotting"
   ]
  },
  {
   "cell_type": "code",
   "execution_count": 12,
   "metadata": {},
   "outputs": [
    {
     "data": {
      "text/plain": [
       "<matplotlib.axes._subplots.AxesSubplot at 0x7fd415992c10>"
      ]
     },
     "execution_count": 12,
     "metadata": {},
     "output_type": "execute_result"
    },
    {
     "data": {
      "image/png": "[encoded data removed]",
      "text/plain": [
       "<Figure size 432x288 with 1 Axes>"
      ]
     },
     "metadata": {
      "needs_background": "light"
     },
     "output_type": "display_data"
    }
   ],
   "source": [
    "data['Age'].plot.hist()"
   ]
  },
  {
   "cell_type": "raw",
   "metadata": {},
   "source": [
    "Age is normally distributed"
   ]
  },
  {
   "cell_type": "code",
   "execution_count": 13,
   "metadata": {},
   "outputs": [
    {
     "data": {
      "text/plain": [
       "<matplotlib.axes._subplots.AxesSubplot at 0x7fd415a85090>"
      ]
     },
     "execution_count": 13,
     "metadata": {},
     "output_type": "execute_result"
    },
    {
     "data": {
      "image/png": "[encoded data removed]",
      "text/plain": [
       "<Figure size 432x288 with 1 Axes>"
      ]
     },
     "metadata": {
      "needs_background": "light"
     },
     "output_type": "display_data"
    }
   ],
   "source": [
    "data['Positive_Nodes'].plot.hist()"
   ]
  },
  {
   "cell_type": "raw",
   "metadata": {},
   "source": [
    "Positive_Nodes column is highly right skewed. Mean>Median>Mode for Positive_Nodes. Hence we will take square root of every value"
   ]
  },
  {
   "cell_type": "code",
   "execution_count": 14,
   "metadata": {},
   "outputs": [
    {
     "data": {
      "text/plain": [
       "count    306.000000\n",
       "mean       4.026144\n",
       "std        7.189654\n",
       "min        0.000000\n",
       "25%        0.000000\n",
       "50%        1.000000\n",
       "75%        4.000000\n",
       "max       52.000000\n",
       "Name: Positive_Nodes, dtype: float64"
      ]
     },
     "execution_count": 14,
     "metadata": {},
     "output_type": "execute_result"
    }
   ],
   "source": [
    "data.Positive_Nodes.describe()"
   ]
  },
  {
   "cell_type": "raw",
   "metadata": {},
   "source": [
    "From above, the minimum value of Positive_Nodes is 0, hence we can not take log transformation to reduce skewness as log0 is not defined.\n",
    "But, since every value is positive, we can take the square root"
   ]
  },
  {
   "cell_type": "code",
   "execution_count": 15,
   "metadata": {},
   "outputs": [],
   "source": [
    "data['Positive_Nodes'] = np.sqrt(data['Positive_Nodes'])"
   ]
  },
  {
   "cell_type": "code",
   "execution_count": 16,
   "metadata": {},
   "outputs": [
    {
     "data": {
      "text/plain": [
       "<matplotlib.axes._subplots.AxesSubplot at 0x7fd415b40110>"
      ]
     },
     "execution_count": 16,
     "metadata": {},
     "output_type": "execute_result"
    },
    {
     "data": {
      "image/png": "[encoded data removed]",
      "text/plain": [
       "<Figure size 432x288 with 1 Axes>"
      ]
     },
     "metadata": {
      "needs_background": "light"
     },
     "output_type": "display_data"
    }
   ],
   "source": [
    "data['Positive_Nodes'].plot.hist()"
   ]
  },
  {
   "cell_type": "raw",
   "metadata": {},
   "source": [
    "The skewness is somewhat low."
   ]
  },
  {
   "cell_type": "code",
   "execution_count": 17,
   "metadata": {},
   "outputs": [
    {
     "data": {
      "text/plain": [
       "<matplotlib.axes._subplots.AxesSubplot at 0x7fd415c4d350>"
      ]
     },
     "execution_count": 17,
     "metadata": {},
     "output_type": "execute_result"
    },
    {
     "data": {
      "image/png": "[encoded data removed]",
      "text/plain": [
       "<Figure size 432x288 with 1 Axes>"
      ]
     },
     "metadata": {
      "needs_background": "light"
     },
     "output_type": "display_data"
    }
   ],
   "source": [
    "pd.DataFrame.boxplot(data['Positive_Nodes'])"
   ]
  },
  {
   "cell_type": "raw",
   "metadata": {},
   "source": [
    "The points above 5 can be considered as outliers(as they are above Q3+1.5*IQR), but since we only have 306 instances, we will not drop these as they might contain important relations about data."
   ]
  },
  {
   "cell_type": "code",
   "execution_count": null,
   "metadata": {},
   "outputs": [],
   "source": []
  },
  {
   "cell_type": "markdown",
   "metadata": {},
   "source": [
    "### Scaling data"
   ]
  },
  {
   "cell_type": "code",
   "execution_count": 18,
   "metadata": {},
   "outputs": [],
   "source": [
    "data.Age = data.Age/data.Age.max()\n",
    "data.Year_of_Operation = data.Year_of_Operation/data.Year_of_Operation.max()\n",
    "data.Positive_Nodes = data.Positive_Nodes/data.Positive_Nodes.max()"
   ]
  },
  {
   "cell_type": "code",
   "execution_count": 19,
   "metadata": {},
   "outputs": [
    {
     "data": {
      "text/html": [
       "<div>\n",
       "<style scoped>\n",
       "    .dataframe tbody tr th:only-of-type {\n",
       "        vertical-align: middle;\n",
       "    }\n",
       "\n",
       "    .dataframe tbody tr th {\n",
       "        vertical-align: top;\n",
       "    }\n",
       "\n",
       "    .dataframe thead th {\n",
       "        text-align: right;\n",
       "    }\n",
       "</style>\n",
       "<table border=\"1\" class=\"dataframe\">\n",
       "  <thead>\n",
       "    <tr style=\"text-align: right;\">\n",
       "      <th></th>\n",
       "      <th>Age</th>\n",
       "      <th>Year_of_Operation</th>\n",
       "      <th>Positive_Nodes</th>\n",
       "      <th>Survival_Status</th>\n",
       "    </tr>\n",
       "  </thead>\n",
       "  <tbody>\n",
       "    <tr>\n",
       "      <th>0</th>\n",
       "      <td>0.361446</td>\n",
       "      <td>0.927536</td>\n",
       "      <td>0.138675</td>\n",
       "      <td>1</td>\n",
       "    </tr>\n",
       "    <tr>\n",
       "      <th>1</th>\n",
       "      <td>0.361446</td>\n",
       "      <td>0.898551</td>\n",
       "      <td>0.240192</td>\n",
       "      <td>1</td>\n",
       "    </tr>\n",
       "    <tr>\n",
       "      <th>2</th>\n",
       "      <td>0.361446</td>\n",
       "      <td>0.942029</td>\n",
       "      <td>0.000000</td>\n",
       "      <td>1</td>\n",
       "    </tr>\n",
       "    <tr>\n",
       "      <th>3</th>\n",
       "      <td>0.373494</td>\n",
       "      <td>0.855072</td>\n",
       "      <td>0.196116</td>\n",
       "      <td>1</td>\n",
       "    </tr>\n",
       "    <tr>\n",
       "      <th>4</th>\n",
       "      <td>0.373494</td>\n",
       "      <td>0.942029</td>\n",
       "      <td>0.277350</td>\n",
       "      <td>1</td>\n",
       "    </tr>\n",
       "    <tr>\n",
       "      <th>...</th>\n",
       "      <td>...</td>\n",
       "      <td>...</td>\n",
       "      <td>...</td>\n",
       "      <td>...</td>\n",
       "    </tr>\n",
       "    <tr>\n",
       "      <th>301</th>\n",
       "      <td>0.903614</td>\n",
       "      <td>0.898551</td>\n",
       "      <td>0.138675</td>\n",
       "      <td>1</td>\n",
       "    </tr>\n",
       "    <tr>\n",
       "      <th>302</th>\n",
       "      <td>0.915663</td>\n",
       "      <td>0.971014</td>\n",
       "      <td>0.000000</td>\n",
       "      <td>1</td>\n",
       "    </tr>\n",
       "    <tr>\n",
       "      <th>303</th>\n",
       "      <td>0.927711</td>\n",
       "      <td>0.942029</td>\n",
       "      <td>0.240192</td>\n",
       "      <td>1</td>\n",
       "    </tr>\n",
       "    <tr>\n",
       "      <th>304</th>\n",
       "      <td>0.939759</td>\n",
       "      <td>0.942029</td>\n",
       "      <td>0.138675</td>\n",
       "      <td>0</td>\n",
       "    </tr>\n",
       "    <tr>\n",
       "      <th>305</th>\n",
       "      <td>1.000000</td>\n",
       "      <td>0.840580</td>\n",
       "      <td>0.196116</td>\n",
       "      <td>0</td>\n",
       "    </tr>\n",
       "  </tbody>\n",
       "</table>\n",
       "<p>306 rows × 4 columns</p>\n",
       "</div>"
      ],
      "text/plain": [
       "          Age  Year_of_Operation  Positive_Nodes  Survival_Status\n",
       "0    0.361446           0.927536        0.138675                1\n",
       "1    0.361446           0.898551        0.240192                1\n",
       "2    0.361446           0.942029        0.000000                1\n",
       "3    0.373494           0.855072        0.196116                1\n",
       "4    0.373494           0.942029        0.277350                1\n",
       "..        ...                ...             ...              ...\n",
       "301  0.903614           0.898551        0.138675                1\n",
       "302  0.915663           0.971014        0.000000                1\n",
       "303  0.927711           0.942029        0.240192                1\n",
       "304  0.939759           0.942029        0.138675                0\n",
       "305  1.000000           0.840580        0.196116                0\n",
       "\n",
       "[306 rows x 4 columns]"
      ]
     },
     "execution_count": 19,
     "metadata": {},
     "output_type": "execute_result"
    }
   ],
   "source": [
    "data # Data is now scaled"
   ]
  },
  {
   "cell_type": "code",
   "execution_count": null,
   "metadata": {},
   "outputs": [],
   "source": []
  },
  {
   "cell_type": "markdown",
   "metadata": {},
   "source": [
    "## Creating train, validation and test set"
   ]
  },
  {
   "cell_type": "raw",
   "metadata": {},
   "source": [
    "There are 306 instances. Hence we will keep 266 for training, 20 for validation and 20 for testing."
   ]
  },
  {
   "cell_type": "code",
   "execution_count": 20,
   "metadata": {},
   "outputs": [],
   "source": [
    "train_data = data[:266]\n",
    "validation_data = data[266:286]\n",
    "test_data = data[286:]"
   ]
  },
  {
   "cell_type": "code",
   "execution_count": 21,
   "metadata": {},
   "outputs": [
    {
     "data": {
      "text/plain": [
       "True"
      ]
     },
     "execution_count": 21,
     "metadata": {},
     "output_type": "execute_result"
    }
   ],
   "source": [
    "len(data)  == len(train_data) + len(validation_data) + len(test_data)"
   ]
  },
  {
   "cell_type": "code",
   "execution_count": null,
   "metadata": {},
   "outputs": [],
   "source": []
  },
  {
   "cell_type": "markdown",
   "metadata": {},
   "source": [
    "## Neural Net Class with sigmoid activation"
   ]
  },
  {
   "cell_type": "code",
   "execution_count": 32,
   "metadata": {},
   "outputs": [],
   "source": [
    "class NeuralNet:\n",
    "    def __init__(self, train, inputlayer_neurons, hiddenlayer_neurons,\n",
    "                 output_neurons = 1):\n",
    "        np.random.seed(1)\n",
    "        \n",
    "        df = train\n",
    "        self.nrows, self.ncols = df.shape[0], df.shape[1]\n",
    "        self.X =  df.iloc[:, 0:(self.ncols -1)].values.reshape(self.nrows, self.ncols-1) \n",
    "        self.y = df.iloc[:, (self.ncols-1)].values.reshape(self.nrows, 1) \n",
    "        self.weights_input = np.round(np.random.uniform(size=(inputlayer_neurons,hiddenlayer_neurons)), decimals=1)\n",
    "        self.bias_input = np.round(np.random.uniform(size=(1,hiddenlayer_neurons)), decimals=1)\n",
    "        self.weights_output = np.round(np.random.uniform(size=(hiddenlayer_neurons,output_neurons)), decimals=1)\n",
    "        self.bias_output = np.round(np.random.uniform(size=(1,output_neurons)), decimals=1)\n",
    "        \n",
    "    @staticmethod\n",
    "    def activation(x):\n",
    "        return 1 / (1 + np.exp(-x))   # Sigmoid function\n",
    "    \n",
    "    @staticmethod\n",
    "    def derivative_activation(x):\n",
    "        return x * (1 - x)            # Derivative of Sigmoid\n",
    "    \n",
    "    def train(self,learning_rate, epochs):\n",
    "        for i in range(epochs):\n",
    "            µ1=np.dot(self.X,self.weights_input) + self.bias_input\n",
    "            h1 = self.__class__.activation(µ1)\n",
    "            µ2=np.dot(h1,self.weights_output) + self.bias_output\n",
    "            output = self.__class__.activation(µ2)\n",
    "            \n",
    "            error = ((self.y-output)*(self.y-output))/2\n",
    "\n",
    "            # BACKPROPAGATION\n",
    "\n",
    "            # Output Layer and Layer 2         \n",
    "            change_error_output = self.y-output   \n",
    "            change_output_wrt_µ2 = self.__class__.derivative_activation(output) \n",
    "            change_µ2_wrt_weights_output = h1 \n",
    "            delta_weights_output = np.dot(change_µ2_wrt_weights_output.T, change_error_output * change_output_wrt_µ2) \n",
    "            change_µ2_wrt_bias_output = np.ones((len(self.X), 1)) \n",
    "            delta_bias_output = np.dot(change_µ2_wrt_bias_output.T, change_error_output * change_output_wrt_µ2) \n",
    "\n",
    "            # Hidden Layer : between layer 1 and output\n",
    "            change_µ2_wrt_h2_activation = self.weights_output  \n",
    "            change_µ2_wrt_weights_hiddenlayer2 = h1 \n",
    "            #delta_weights_hiddenlayer = np.dot(change_µ2_wrt_weights_hiddenlayer2.T, (change_h2_activation_wrt_µ2 * (change_error_output * change_output_wrt_µ3).dot(change_µ3_wrt_h2_activation.T))) \n",
    "            change_µ2_bias_bias_hiddenlayer = np.ones((len(self.X), 1))  \n",
    "            #delta_bias_hiddenlayer = np.dot(change_µ2_bias_bias_hiddenlayer.T, (change_h2_activation_wrt_µ2 * (change_error_output * change_output_wrt_µ3).dot(change_µ3_wrt_h2_activation.T))) \n",
    "            \n",
    "            # Hidden Layer between input and Layer 2\n",
    "            change_µ3_wrt_h1_activation = self.weights_output \n",
    "            change_h1_activation_wrt_µ1 = self.__class__.derivative_activation(h1)\n",
    "            change_µ1_wrt_weights_input = self.X\n",
    "            delta_weights_input = np.dot(change_µ1_wrt_weights_input.T, (change_h1_activation_wrt_µ1 * (change_error_output * change_output_wrt_µ3).dot(change_µ3_wrt_h1_activation.T)))\n",
    "            change_µ1_wrt_bias_input = np.ones((len(self.X), 1))\n",
    "            delta_bias_input = np.dot(change_µ1_wrt_bias_input.T, (change_h1_activation_wrt_µ1 * (change_error_output * change_output_wrt_µ3).dot(change_µ3_wrt_h1_activation.T)))\n",
    "            \n",
    "            # Weight Updates\n",
    "            #self.weights_hiddenlayer += delta_weights_hiddenlayer * learning_rate\n",
    "            #self.bias_hiddenlayer += delta_bias_hiddenlayer * learning_rate\n",
    "            self.weights_output += delta_weights_output * learning_rate\n",
    "            self.weights_input += delta_weights_input * learning_rate\n",
    "            self.bias_output += delta_bias_output * learning_rate\n",
    "            self.bias_input += delta_bias_input * learning_rate\n",
    "        return error\n",
    "            \n",
    "    def predict(self, test):\n",
    "        testDF = test\n",
    "        nrows, ncols = testDF.shape[0], testDF.shape[1]\n",
    "        testX = testDF.iloc[:, 0:(ncols - 1)].values.reshape(nrows, ncols - 1)\n",
    "        testY = testDF.iloc[:, (ncols-1)].values.reshape(nrows, 1)\n",
    "        \n",
    "        step1 = np.dot(testX, self.weights_input) + self.bias_input\n",
    "        step2 = self.__class__.activation(step1)\n",
    "        step3 = np.dot(step2, self.weights_output) + self.bias_output\n",
    "        pred = self.__class__.activation(step3)\n",
    "        \n",
    "        error = pred - testY\n",
    "        mse = (1/(2*nrows)) * np.dot(error.T, error)\n",
    "        return mse, pred\n",
    "        "
   ]
  },
  {
   "cell_type": "markdown",
   "metadata": {},
   "source": [
    "### Claculating optimal learning_rate"
   ]
  },
  {
   "cell_type": "code",
   "execution_count": 58,
   "metadata": {},
   "outputs": [],
   "source": [
    "if __name__ == \"__main__\":\n",
    "    es = []\n",
    "    for i in range(0,90):\n",
    "        model = NeuralNet(train_data, 3, 5)\n",
    "        error = model.train(learning_rate = i/100, epochs=1)\n",
    "        mse, pred1 = model.predict(validation_data)\n",
    "        es.append(mse)"
   ]
  },
  {
   "cell_type": "code",
   "execution_count": 59,
   "metadata": {},
   "outputs": [
    {
     "data": {
      "text/html": [
       "<div>\n",
       "<style scoped>\n",
       "    .dataframe tbody tr th:only-of-type {\n",
       "        vertical-align: middle;\n",
       "    }\n",
       "\n",
       "    .dataframe tbody tr th {\n",
       "        vertical-align: top;\n",
       "    }\n",
       "\n",
       "    .dataframe thead th {\n",
       "        text-align: right;\n",
       "    }\n",
       "</style>\n",
       "<table border=\"1\" class=\"dataframe\">\n",
       "  <thead>\n",
       "    <tr style=\"text-align: right;\">\n",
       "      <th></th>\n",
       "      <th>LearningRate</th>\n",
       "      <th>MSE</th>\n",
       "    </tr>\n",
       "  </thead>\n",
       "  <tbody>\n",
       "    <tr>\n",
       "      <th>0</th>\n",
       "      <td>0.00</td>\n",
       "      <td>[[0.1425529855036571]]</td>\n",
       "    </tr>\n",
       "    <tr>\n",
       "      <th>1</th>\n",
       "      <td>0.01</td>\n",
       "      <td>[[0.14210338931169902]]</td>\n",
       "    </tr>\n",
       "    <tr>\n",
       "      <th>2</th>\n",
       "      <td>0.02</td>\n",
       "      <td>[[0.1416300613785155]]</td>\n",
       "    </tr>\n",
       "    <tr>\n",
       "      <th>3</th>\n",
       "      <td>0.03</td>\n",
       "      <td>[[0.14113213376972283]]</td>\n",
       "    </tr>\n",
       "    <tr>\n",
       "      <th>4</th>\n",
       "      <td>0.04</td>\n",
       "      <td>[[0.14060875423211186]]</td>\n",
       "    </tr>\n",
       "    <tr>\n",
       "      <th>...</th>\n",
       "      <td>...</td>\n",
       "      <td>...</td>\n",
       "    </tr>\n",
       "    <tr>\n",
       "      <th>85</th>\n",
       "      <td>0.85</td>\n",
       "      <td>[[0.22257661037668994]]</td>\n",
       "    </tr>\n",
       "    <tr>\n",
       "      <th>86</th>\n",
       "      <td>0.86</td>\n",
       "      <td>[[0.22673188453343487]]</td>\n",
       "    </tr>\n",
       "    <tr>\n",
       "      <th>87</th>\n",
       "      <td>0.87</td>\n",
       "      <td>[[0.23082166744438465]]</td>\n",
       "    </tr>\n",
       "    <tr>\n",
       "      <th>88</th>\n",
       "      <td>0.88</td>\n",
       "      <td>[[0.2348405717455151]]</td>\n",
       "    </tr>\n",
       "    <tr>\n",
       "      <th>89</th>\n",
       "      <td>0.89</td>\n",
       "      <td>[[0.23878382237053977]]</td>\n",
       "    </tr>\n",
       "  </tbody>\n",
       "</table>\n",
       "<p>90 rows × 2 columns</p>\n",
       "</div>"
      ],
      "text/plain": [
       "    LearningRate                      MSE\n",
       "0           0.00   [[0.1425529855036571]]\n",
       "1           0.01  [[0.14210338931169902]]\n",
       "2           0.02   [[0.1416300613785155]]\n",
       "3           0.03  [[0.14113213376972283]]\n",
       "4           0.04  [[0.14060875423211186]]\n",
       "..           ...                      ...\n",
       "85          0.85  [[0.22257661037668994]]\n",
       "86          0.86  [[0.22673188453343487]]\n",
       "87          0.87  [[0.23082166744438465]]\n",
       "88          0.88   [[0.2348405717455151]]\n",
       "89          0.89  [[0.23878382237053977]]\n",
       "\n",
       "[90 rows x 2 columns]"
      ]
     },
     "execution_count": 59,
     "metadata": {},
     "output_type": "execute_result"
    }
   ],
   "source": [
    "iteration_table = pd.DataFrame({\n",
    "    'LearningRate' : [i/100 for i in range(0,90)],\n",
    "    'MSE' : es\n",
    "})\n",
    "iteration_table"
   ]
  },
  {
   "cell_type": "code",
   "execution_count": 60,
   "metadata": {},
   "outputs": [
    {
     "data": {
      "text/plain": [
       "Text(0.5, 1.0, 'Gradient Descent')"
      ]
     },
     "execution_count": 60,
     "metadata": {},
     "output_type": "execute_result"
    },
    {
     "data": {
      "image/png": "[encoded data removed]",
      "text/plain": [
       "<Figure size 432x288 with 1 Axes>"
      ]
     },
     "metadata": {
      "needs_background": "light"
     },
     "output_type": "display_data"
    }
   ],
   "source": [
    "plt.plot(iteration_table.LearningRate, iteration_table.MSE, color = 'blue')\n",
    "plt.xlabel('LearnningRate')\n",
    "plt.ylabel('MSE')\n",
    "plt.title('Gradient Descent')"
   ]
  },
  {
   "cell_type": "raw",
   "metadata": {},
   "source": [
    "Hence, optimal learning_rate is 0.45"
   ]
  },
  {
   "cell_type": "markdown",
   "metadata": {},
   "source": [
    "### Calculating optimal epoch"
   ]
  },
  {
   "cell_type": "code",
   "execution_count": 61,
   "metadata": {},
   "outputs": [
    {
     "name": "stdout",
     "output_type": "stream",
     "text": [
      "[[0.15]]\n"
     ]
    }
   ],
   "source": [
    "# Manual calculation of epochs and errors as implementation of different epochs in a loop will take longer time\n",
    "if __name__ == \"__main__\":    \n",
    "    model = NeuralNet(train_data, 3, 5)\n",
    "    error = model.train(epochs = 6000,learning_rate = 0.45)\n",
    "    mse, pred1 = model.predict(validation_data)\n",
    "    print(mse)"
   ]
  },
  {
   "cell_type": "code",
   "execution_count": 62,
   "metadata": {},
   "outputs": [],
   "source": [
    "err = [0.13689036, 0.12201688, 0.10695007,0.10729602, 0.10559432,0.10840044,0.08707395,0.08225687,0.07964516,0.07786024,0.07653455,0.07550894,0.07470981,0.07411084, 0.07371096,0.07039622,0.0666253,0.06473711,0.06452243,0.06442864,0.0657919,0.06858621]"
   ]
  },
  {
   "cell_type": "code",
   "execution_count": 63,
   "metadata": {},
   "outputs": [],
   "source": [
    "epoc = [1,2,3,5,6,100,200,300, 400,500,600,700,800,900, 1000,2000,3000,4000,5000,6000,7000,8000]"
   ]
  },
  {
   "cell_type": "code",
   "execution_count": 64,
   "metadata": {},
   "outputs": [
    {
     "data": {
      "text/plain": [
       "22"
      ]
     },
     "execution_count": 64,
     "metadata": {},
     "output_type": "execute_result"
    }
   ],
   "source": [
    "len(err)"
   ]
  },
  {
   "cell_type": "code",
   "execution_count": 65,
   "metadata": {},
   "outputs": [
    {
     "data": {
      "image/png": "[encoded data removed]",
      "text/plain": [
       "<Figure size 432x288 with 1 Axes>"
      ]
     },
     "metadata": {
      "needs_background": "light"
     },
     "output_type": "display_data"
    }
   ],
   "source": [
    "plt.plot(epoc, err, color='blue')\n",
    "plt.xlabel('epochs')\n",
    "plt.ylabel('MSE')\n",
    "plt.show()"
   ]
  },
  {
   "cell_type": "raw",
   "metadata": {},
   "source": [
    "So, from the graph, optimal number of epochs are 6000"
   ]
  },
  {
   "cell_type": "markdown",
   "metadata": {},
   "source": [
    "### Implementing on Test Data"
   ]
  },
  {
   "cell_type": "code",
   "execution_count": 66,
   "metadata": {},
   "outputs": [
    {
     "name": "stdout",
     "output_type": "stream",
     "text": [
      "[[0.125]]\n"
     ]
    }
   ],
   "source": [
    "if __name__ == \"__main__\":    \n",
    "    model = NeuralNet(train_data, 3, 5)\n",
    "    error = model.train(epochs = 6000,learning_rate = 0.45)\n",
    "    mse, pred1 = model.predict(test_data)\n",
    "print(mse)"
   ]
  },
  {
   "cell_type": "code",
   "execution_count": null,
   "metadata": {},
   "outputs": [],
   "source": []
  }
 ],
 "metadata": {
  "kernelspec": {
   "display_name": "Python 3",
   "language": "python",
   "name": "python3"
  },
  "language_info": {
   "codemirror_mode": {
    "name": "ipython",
    "version": 3
   },
   "file_extension": ".py",
   "mimetype": "text/x-python",
   "name": "python",
   "nbconvert_exporter": "python",
   "pygments_lexer": "ipython3",
   "version": "3.7.4"
  }
 },
 "nbformat": 4,
 "nbformat_minor": 4
}
